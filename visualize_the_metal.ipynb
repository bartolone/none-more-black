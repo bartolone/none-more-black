{
 "cells": [
  {
   "cell_type": "code",
   "execution_count": 1,
   "metadata": {},
   "outputs": [],
   "source": [
    "import pandas as pd\n",
    "import numpy as np\n",
    "import pickle \n",
    "import statsmodels.api as sm\n",
    "\n",
    "import matplotlib.pyplot as plt\n",
    "\n",
    "%matplotlib inline"
   ]
  },
  {
   "cell_type": "code",
   "execution_count": 2,
   "metadata": {},
   "outputs": [],
   "source": [
    "model_df = pd.read_pickle(\"metal_for_modeling.pkl\")"
   ]
  },
  {
   "cell_type": "markdown",
   "metadata": {},
   "source": [
    "## Visualization -- Album release year\n",
    "\n",
    "Let's start by plotting mean user review scores by album release year. MetalStorm.net was founded in the year 2000, meaning all reviews before that year were retrospective reviews."
   ]
  },
  {
   "cell_type": "code",
   "execution_count": 3,
   "metadata": {},
   "outputs": [
    {
     "data": {
      "image/png": "[encoded data removed]",
      "text/plain": [
       "<Figure size 432x288 with 1 Axes>"
      ]
     },
     "metadata": {
      "needs_background": "light"
     },
     "output_type": "display_data"
    }
   ],
   "source": [
    "plt.plot(model_df['release_year'], model_df['user_review_score_num'], 'b.')\n",
    "plt.title(\"Album Release Year vs. User Review Score\")\n",
    "plt.xlabel(\"Album Release Year\")\n",
    "plt.ylabel(\"Average User Review Score\")\n",
    "plt.axvline(2000, color='k', linestyle='--', label='Metal Storm founded in 2000')\n",
    "plt.show()"
   ]
  },
  {
   "cell_type": "markdown",
   "metadata": {},
   "source": [
    "It does look like the distribution is different for user review scores for albums released before and after the site's founding.\n",
    "\n",
    "Before we plot the distribution for 2000 and later only, let's look at the outlier in the retrospective reviews that got a score around 4 and was released in the late 80s."
   ]
  },
  {
   "cell_type": "code",
   "execution_count": 4,
   "metadata": {},
   "outputs": [
    {
     "data": {
      "text/html": [
       "<div>\n",
       "<style scoped>\n",
       "    .dataframe tbody tr th:only-of-type {\n",
       "        vertical-align: middle;\n",
       "    }\n",
       "\n",
       "    .dataframe tbody tr th {\n",
       "        vertical-align: top;\n",
       "    }\n",
       "\n",
       "    .dataframe thead th {\n",
       "        text-align: right;\n",
       "    }\n",
       "</style>\n",
       "<table border=\"1\" class=\"dataframe\">\n",
       "  <thead>\n",
       "    <tr style=\"text-align: right;\">\n",
       "      <th></th>\n",
       "      <th>band</th>\n",
       "      <th>album</th>\n",
       "      <th>num_songs</th>\n",
       "      <th>release_year</th>\n",
       "      <th>review_score_num</th>\n",
       "      <th>user_review_num</th>\n",
       "      <th>user_review_score_num</th>\n",
       "      <th>album_metalness_sum</th>\n",
       "      <th>album_metalness_mean</th>\n",
       "      <th>album_metalness_sum_div_len2</th>\n",
       "      <th>songtitle_metalness_sum</th>\n",
       "      <th>songtitle_metalness_mean</th>\n",
       "      <th>songtitle_metalness_sum_div_len2</th>\n",
       "      <th>bandname_metalness_sum</th>\n",
       "      <th>bandname_metalness_mean</th>\n",
       "      <th>bandname_metalness_sum_div_len2</th>\n",
       "    </tr>\n",
       "  </thead>\n",
       "  <tbody>\n",
       "    <tr>\n",
       "      <th>12520</th>\n",
       "      <td>Celtic Frost</td>\n",
       "      <td>Cold Lake</td>\n",
       "      <td>13.0</td>\n",
       "      <td>1988.0</td>\n",
       "      <td>6.0</td>\n",
       "      <td>158.0</td>\n",
       "      <td>4.31</td>\n",
       "      <td>2.336037</td>\n",
       "      <td>1.168019</td>\n",
       "      <td>1.557358</td>\n",
       "      <td>7.343153</td>\n",
       "      <td>0.489544</td>\n",
       "      <td>0.917894</td>\n",
       "      <td>1.904538</td>\n",
       "      <td>0.952269</td>\n",
       "      <td>1.269692</td>\n",
       "    </tr>\n",
       "  </tbody>\n",
       "</table>\n",
       "</div>"
      ],
      "text/plain": [
       "               band      album  num_songs  release_year  review_score_num  \\\n",
       "12520  Celtic Frost  Cold Lake       13.0        1988.0               6.0   \n",
       "\n",
       "       user_review_num  user_review_score_num  album_metalness_sum  \\\n",
       "12520            158.0                   4.31             2.336037   \n",
       "\n",
       "       album_metalness_mean  album_metalness_sum_div_len2  \\\n",
       "12520              1.168019                      1.557358   \n",
       "\n",
       "       songtitle_metalness_sum  songtitle_metalness_mean  \\\n",
       "12520                 7.343153                  0.489544   \n",
       "\n",
       "       songtitle_metalness_sum_div_len2  bandname_metalness_sum  \\\n",
       "12520                          0.917894                1.904538   \n",
       "\n",
       "       bandname_metalness_mean  bandname_metalness_sum_div_len2  \n",
       "12520                 0.952269                         1.269692  "
      ]
     },
     "execution_count": 4,
     "metadata": {},
     "output_type": "execute_result"
    }
   ],
   "source": [
    "albumyear_outlier = model_df.loc[(model_df['user_review_score_num'] < 5.0) & (model_df['release_year'] < 1990)]\n",
    "albumyear_outlier.head()"
   ]
  },
  {
   "cell_type": "markdown",
   "metadata": {},
   "source": [
    "Well that makes sense -- a classic extreme metal band went glam for one album with an almost entirely new lineup. Go ahead and google this album if you're curious -- there are a lot of hot takes on it out there.\n",
    "\n",
    "Onward to 2000 and beyond:"
   ]
  },
  {
   "cell_type": "code",
   "execution_count": 5,
   "metadata": {},
   "outputs": [
    {
     "data": {
      "image/png": "[encoded data removed]",
      "text/plain": [
       "<Figure size 432x288 with 1 Axes>"
      ]
     },
     "metadata": {
      "needs_background": "light"
     },
     "output_type": "display_data"
    }
   ],
   "source": [
    "model_df1 = model_df.dropna(subset = ['user_review_score_num'])\n",
    "model_df2 = model_df1.loc[model_df1['release_year'] > 1999]\n",
    "\n",
    "plt.plot(model_df2['release_year'], model_df2['user_review_score_num'], 'b.')\n",
    "plt.title(\"Album Release Year post-1999 vs. User Review Score\")\n",
    "plt.xlabel(\"Album Release Year\")\n",
    "plt.ylabel(\"Average User Review Score\")\n",
    "plt.xticks([2000,2002, 2004, 2006, 2008, 2010, 2012, 2014, 2016, 2018])\n",
    "#plt.axvline(2000, color='k', linestyle='--', label='Metal Storm founded in 2000')\n",
    "plt.show()"
   ]
  },
  {
   "cell_type": "markdown",
   "metadata": {},
   "source": [
    "That looks pretty unpredictable. The R-squared for the linear regression using only album release year as a predictor variable was .054 -- quite low already -- but let's run the regression again using only this time frame:"
   ]
  },
  {
   "cell_type": "code",
   "execution_count": 6,
   "metadata": {},
   "outputs": [
    {
     "name": "stdout",
     "output_type": "stream",
     "text": [
      "                              OLS Regression Results                             \n",
      "=================================================================================\n",
      "Dep. Variable:     user_review_score_num   R-squared:                       0.033\n",
      "Model:                               OLS   Adj. R-squared:                  0.033\n",
      "Method:                    Least Squares   F-statistic:                     219.7\n",
      "Date:                   Mon, 15 Oct 2018   Prob (F-statistic):           6.63e-49\n",
      "Time:                           22:31:26   Log-Likelihood:                -7630.9\n",
      "No. Observations:                   6415   AIC:                         1.527e+04\n",
      "Df Residuals:                       6413   BIC:                         1.528e+04\n",
      "Df Model:                              1                                         \n",
      "Covariance Type:               nonrobust                                         \n",
      "================================================================================\n",
      "                   coef    std err          t      P>|t|      [0.025      0.975]\n",
      "--------------------------------------------------------------------------------\n",
      "const           73.9268      4.463     16.563      0.000      65.177      82.677\n",
      "release_year    -0.0329      0.002    -14.823      0.000      -0.037      -0.029\n",
      "==============================================================================\n",
      "Omnibus:                     3162.526   Durbin-Watson:                   1.968\n",
      "Prob(Omnibus):                  0.000   Jarque-Bera (JB):            30961.095\n",
      "Skew:                          -2.139   Prob(JB):                         0.00\n",
      "Kurtosis:                      12.876   Cond. No.                     9.03e+05\n",
      "==============================================================================\n",
      "\n",
      "Warnings:\n",
      "[1] Standard Errors assume that the covariance matrix of the errors is correctly specified.\n",
      "[2] The condition number is large, 9.03e+05. This might indicate that there are\n",
      "strong multicollinearity or other numerical problems.\n"
     ]
    }
   ],
   "source": [
    "X = model_df2[['release_year']]\n",
    "\n",
    "y = model_df2['user_review_score_num']\n",
    "\n",
    "Xa = sm.add_constant(X)\n",
    "est = sm.OLS(y, Xa)\n",
    "results = est.fit()\n",
    "print(results.summary())"
   ]
  },
  {
   "cell_type": "markdown",
   "metadata": {},
   "source": [
    "So there's still some very slight effect where albums from earlier years get slightly better ratings, even from 2000 forward. We don't know, however, if this is because they were easier raters during the site's early days or if they did some retrospective reviewing of previously overlooked albums post-2000. Or if metal just wasn't as good after Y2K."
   ]
  },
  {
   "cell_type": "markdown",
   "metadata": {},
   "source": [
    "## Visualization -- Number of user reviews\n",
    "\n",
    "Let's plot the number of user reviews agains the average user review score:"
   ]
  },
  {
   "cell_type": "code",
   "execution_count": 7,
   "metadata": {},
   "outputs": [
    {
     "data": {
      "image/png": "[encoded data removed]",
      "text/plain": [
       "<Figure size 432x288 with 1 Axes>"
      ]
     },
     "metadata": {
      "needs_background": "light"
     },
     "output_type": "display_data"
    }
   ],
   "source": [
    "plt.plot(model_df['user_review_num'], model_df['user_review_score_num'], 'b.')\n",
    "plt.title(\"Number of User Reviews vs. User Review Score\")\n",
    "plt.xlabel(\"Number of User Reviews\")\n",
    "plt.ylabel(\"Average User Review Score\")\n",
    "plt.show()"
   ]
  },
  {
   "cell_type": "markdown",
   "metadata": {},
   "source": [
    "Not too surprising that albums with more user reviews tend to have higher scores -- but what are those two outliers with review scores under 5 but with hundreds of user reviews?"
   ]
  },
  {
   "cell_type": "code",
   "execution_count": 8,
   "metadata": {},
   "outputs": [
    {
     "data": {
      "text/html": [
       "<div>\n",
       "<style scoped>\n",
       "    .dataframe tbody tr th:only-of-type {\n",
       "        vertical-align: middle;\n",
       "    }\n",
       "\n",
       "    .dataframe tbody tr th {\n",
       "        vertical-align: top;\n",
       "    }\n",
       "\n",
       "    .dataframe thead th {\n",
       "        text-align: right;\n",
       "    }\n",
       "</style>\n",
       "<table border=\"1\" class=\"dataframe\">\n",
       "  <thead>\n",
       "    <tr style=\"text-align: right;\">\n",
       "      <th></th>\n",
       "      <th>band</th>\n",
       "      <th>album</th>\n",
       "      <th>num_songs</th>\n",
       "      <th>release_year</th>\n",
       "      <th>review_score_num</th>\n",
       "      <th>user_review_num</th>\n",
       "      <th>user_review_score_num</th>\n",
       "      <th>album_metalness_sum</th>\n",
       "      <th>album_metalness_mean</th>\n",
       "      <th>album_metalness_sum_div_len2</th>\n",
       "      <th>songtitle_metalness_sum</th>\n",
       "      <th>songtitle_metalness_mean</th>\n",
       "      <th>songtitle_metalness_sum_div_len2</th>\n",
       "      <th>bandname_metalness_sum</th>\n",
       "      <th>bandname_metalness_mean</th>\n",
       "      <th>bandname_metalness_sum_div_len2</th>\n",
       "    </tr>\n",
       "  </thead>\n",
       "  <tbody>\n",
       "    <tr>\n",
       "      <th>366</th>\n",
       "      <td>Metallica</td>\n",
       "      <td>St. Anger</td>\n",
       "      <td>11.0</td>\n",
       "      <td>2003.0</td>\n",
       "      <td>5.0</td>\n",
       "      <td>1981.0</td>\n",
       "      <td>4.32</td>\n",
       "      <td>1.687563</td>\n",
       "      <td>1.687563</td>\n",
       "      <td>1.687563</td>\n",
       "      <td>14.623860</td>\n",
       "      <td>1.044561</td>\n",
       "      <td>1.949848</td>\n",
       "      <td>0.0</td>\n",
       "      <td>0.0</td>\n",
       "      <td>0.0</td>\n",
       "    </tr>\n",
       "    <tr>\n",
       "      <th>9825</th>\n",
       "      <td>Metallica</td>\n",
       "      <td>Lulu [Collaboration]</td>\n",
       "      <td>6.0</td>\n",
       "      <td>2011.0</td>\n",
       "      <td>2.0</td>\n",
       "      <td>906.0</td>\n",
       "      <td>2.09</td>\n",
       "      <td>0.000000</td>\n",
       "      <td>0.000000</td>\n",
       "      <td>0.000000</td>\n",
       "      <td>7.690464</td>\n",
       "      <td>1.281744</td>\n",
       "      <td>2.197275</td>\n",
       "      <td>0.0</td>\n",
       "      <td>0.0</td>\n",
       "      <td>0.0</td>\n",
       "    </tr>\n",
       "  </tbody>\n",
       "</table>\n",
       "</div>"
      ],
      "text/plain": [
       "           band                 album  num_songs  release_year  \\\n",
       "366   Metallica             St. Anger       11.0        2003.0   \n",
       "9825  Metallica  Lulu [Collaboration]        6.0        2011.0   \n",
       "\n",
       "      review_score_num  user_review_num  user_review_score_num  \\\n",
       "366                5.0           1981.0                   4.32   \n",
       "9825               2.0            906.0                   2.09   \n",
       "\n",
       "      album_metalness_sum  album_metalness_mean  album_metalness_sum_div_len2  \\\n",
       "366              1.687563              1.687563                      1.687563   \n",
       "9825             0.000000              0.000000                      0.000000   \n",
       "\n",
       "      songtitle_metalness_sum  songtitle_metalness_mean  \\\n",
       "366                 14.623860                  1.044561   \n",
       "9825                 7.690464                  1.281744   \n",
       "\n",
       "      songtitle_metalness_sum_div_len2  bandname_metalness_sum  \\\n",
       "366                           1.949848                     0.0   \n",
       "9825                          2.197275                     0.0   \n",
       "\n",
       "      bandname_metalness_mean  bandname_metalness_sum_div_len2  \n",
       "366                       0.0                              0.0  \n",
       "9825                      0.0                              0.0  "
      ]
     },
     "execution_count": 8,
     "metadata": {},
     "output_type": "execute_result"
    }
   ],
   "source": [
    "usercount_outliers = model_df.loc[(model_df['user_review_score_num'] < 5.0) & (model_df['user_review_num'] > 800)]\n",
    "usercount_outliers.head()"
   ]
  },
  {
   "cell_type": "markdown",
   "metadata": {},
   "source": [
    "Oh. Yeah. Those make sense.\n",
    "\n",
    "Let's look at the distribution of average review scores (generally on the higher end of the 10-point scale) and the number of user reviews (mostly quite low)."
   ]
  },
  {
   "cell_type": "code",
   "execution_count": 9,
   "metadata": {},
   "outputs": [
    {
     "data": {
      "text/plain": [
       "<matplotlib.axes._subplots.AxesSubplot at 0x1c234e5f98>"
      ]
     },
     "execution_count": 9,
     "metadata": {},
     "output_type": "execute_result"
    },
    {
     "data": {
      "image/png": "[encoded data removed]",
      "text/plain": [
       "<Figure size 432x288 with 1 Axes>"
      ]
     },
     "metadata": {
      "needs_background": "light"
     },
     "output_type": "display_data"
    }
   ],
   "source": [
    "ax = model_df['user_review_score_num'].hist(bins=100)\n",
    "ax.set_xlabel(\"Average User Review Score\")\n",
    "ax.set_ylabel(\"Frequency\")\n",
    "ax"
   ]
  },
  {
   "cell_type": "code",
   "execution_count": 10,
   "metadata": {},
   "outputs": [
    {
     "data": {
      "text/plain": [
       "<matplotlib.axes._subplots.AxesSubplot at 0x1c2369fbe0>"
      ]
     },
     "execution_count": 10,
     "metadata": {},
     "output_type": "execute_result"
    },
    {
     "data": {
      "image/png": "[encoded data removed]",
      "text/plain": [
       "<Figure size 432x288 with 1 Axes>"
      ]
     },
     "metadata": {
      "needs_background": "light"
     },
     "output_type": "display_data"
    }
   ],
   "source": [
    "ax = model_df['user_review_num'].hist(bins=100, range=[0,3500])\n",
    "ax.set_xlabel(\"Number of User Reviews\")\n",
    "ax.set_ylabel(\"Frequency\")\n",
    "ax.set_xlim(0, 3500)\n",
    "ax"
   ]
  },
  {
   "cell_type": "markdown",
   "metadata": {},
   "source": [
    "What did we learn? MetalStorm.net went back to review a bunch of classic albums (plus one controversial glam turn) after its founding, and otherwise album review year doesn't much affect ratings, and users are more likely to review albums with high ratings (except when they are hate-rating Metallica)."
   ]
  }
 ],
 "metadata": {
  "kernelspec": {
   "display_name": "Python 3",
   "language": "python",
   "name": "python3"
  },
  "language_info": {
   "codemirror_mode": {
    "name": "ipython",
    "version": 3
   },
   "file_extension": ".py",
   "mimetype": "text/x-python",
   "name": "python",
   "nbconvert_exporter": "python",
   "pygments_lexer": "ipython3",
   "version": "3.6.6"
  },
  "toc": {
   "base_numbering": 1,
   "nav_menu": {},
   "number_sections": true,
   "sideBar": true,
   "skip_h1_title": false,
   "title_cell": "Table of Contents",
   "title_sidebar": "Contents",
   "toc_cell": false,
   "toc_position": {},
   "toc_section_display": true,
   "toc_window_display": false
  },
  "varInspector": {
   "cols": {
    "lenName": 16,
    "lenType": 16,
    "lenVar": 40
   },
   "kernels_config": {
    "python": {
     "delete_cmd_postfix": "",
     "delete_cmd_prefix": "del ",
     "library": "var_list.py",
     "varRefreshCmd": "print(var_dic_list())"
    },
    "r": {
     "delete_cmd_postfix": ") ",
     "delete_cmd_prefix": "rm(",
     "library": "var_list.r",
     "varRefreshCmd": "cat(var_dic_list()) "
    }
   },
   "types_to_exclude": [
    "module",
    "function",
    "builtin_function_or_method",
    "instance",
    "_Feature"
   ],
   "window_display": false
  }
 },
 "nbformat": 4,
 "nbformat_minor": 2
}
